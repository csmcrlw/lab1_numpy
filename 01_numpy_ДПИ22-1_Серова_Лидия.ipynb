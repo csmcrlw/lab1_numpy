{
 "cells": [
  {
   "cell_type": "markdown",
   "metadata": {},
   "source": [
    "# Numpy"
   ]
  },
  {
   "cell_type": "markdown",
   "metadata": {},
   "source": [
    "Материалы:\n",
    "* Макрушин С.В. \"Лекция 1: Библиотека Numpy\"\n",
    "* https://numpy.org/doc/stable/user/index.html\n",
    "* https://numpy.org/doc/stable/reference/index.html"
   ]
  },
  {
   "cell_type": "markdown",
   "metadata": {},
   "source": [
    "## Лабораторная работа №1"
   ]
  },
  {
   "cell_type": "markdown",
   "metadata": {},
   "source": [
    "Замечание: при решении данных задач не подразумевается использования циклов или генераторов Python, если в задании не сказано обратного. Решение должно опираться на использования функционала библиотеки `numpy`."
   ]
  },
  {
   "cell_type": "markdown",
   "metadata": {},
   "source": [
    "1. Файл `minutes_n_ingredients.csv` содержит информацию об идентификаторе рецепта, времени его выполнения в минутах и количестве необходимых ингредиентов. Считайте данные из этого файла в виде массива `numpy` типа `int32`, используя `np.loadtxt`. Выведите на экран первые 5 строк массива."
   ]
  },
  {
   "cell_type": "code",
   "execution_count": 1,
   "metadata": {},
   "outputs": [],
   "source": [
    "import numpy as np"
   ]
  },
  {
   "cell_type": "code",
   "execution_count": 19,
   "metadata": {},
   "outputs": [
    {
     "name": "stdout",
     "output_type": "stream",
     "text": [
      "[[127244     60     16]\n",
      " [ 23891     25      7]\n",
      " [ 94746     10      6]\n",
      " [ 67660      5      6]\n",
      " [157911     60     14]]\n"
     ]
    }
   ],
   "source": [
    "\"\"\" Пропускаем 1 строку, т.к. это заголовки таблицы, и разделяем значения по запятой \"\"\"\n",
    "text = np.loadtxt('minutes_n_ingredients.csv', delimiter=',', dtype='int32', skiprows=1)\n",
    "print(text[:5])"
   ]
  },
  {
   "cell_type": "markdown",
   "metadata": {},
   "source": [
    "2. Вычислите среднее значение, минимум, максимум и медиану по каждому из столбцов, кроме первого."
   ]
  },
  {
   "cell_type": "code",
   "execution_count": 20,
   "metadata": {},
   "outputs": [
    {
     "name": "stdout",
     "output_type": "stream",
     "text": [
      "21601.00169\n",
      "9.05528\n",
      "\n",
      "0\n",
      "1\n",
      "\n",
      "2147483647\n",
      "39\n",
      "\n",
      "40.0\n",
      "9.0\n"
     ]
    }
   ],
   "source": [
    "minutes = text[:, 1]\n",
    "ingredients = text[:, 2]\n",
    "\n",
    "print(np.average(minutes))\n",
    "print(np.average(ingredients))\n",
    "print()\n",
    "\n",
    "print(np.amin(minutes))\n",
    "print(np.amin(ingredients))\n",
    "print()\n",
    "\n",
    "print(np.amax(minutes))\n",
    "print(np.amax(ingredients))\n",
    "print()\n",
    "\n",
    "print(np.median(minutes))\n",
    "print(np.median(ingredients))"
   ]
  },
  {
   "cell_type": "markdown",
   "metadata": {},
   "source": [
    "3. Ограничьте сверху значения продолжительности выполнения рецепта значением квантиля $q_{0.75}$. "
   ]
  },
  {
   "cell_type": "code",
   "execution_count": 21,
   "metadata": {},
   "outputs": [
    {
     "name": "stdout",
     "output_type": "stream",
     "text": [
      "[[127244     60     16]\n",
      " [ 23891     25      7]\n",
      " [ 94746     10      6]\n",
      " ...\n",
      " [ 43407     35      7]\n",
      " [498432     65     15]\n",
      " [370915      5      4]]\n"
     ]
    }
   ],
   "source": [
    "\"\"\" Здесь и далее в переменной text будут содержаться рецепты, \n",
    "значения продолжительности выполнения которых ограничены квантилем \"\"\"\n",
    "\n",
    "quant = np.quantile(text[:, 1], 0.75)\n",
    "text = text[text[:, 1] <= quant]\n",
    "print(text)"
   ]
  },
  {
   "cell_type": "markdown",
   "metadata": {},
   "source": [
    "4. Посчитайте, для скольких рецептов указана продолжительность, равная нулю. Замените для таких строк значение в данном столбце на 1."
   ]
  },
  {
   "cell_type": "code",
   "execution_count": 22,
   "metadata": {},
   "outputs": [
    {
     "name": "stdout",
     "output_type": "stream",
     "text": [
      "479\n",
      "0\n"
     ]
    }
   ],
   "source": [
    "minutes = text[:, 1]\n",
    "print(np.sum(minutes==0))    # рецепты с продолжительностью, равной 0\n",
    "text[minutes==0] = 1\n",
    "print(np.sum(minutes==0))    # считаем снова, чтобы убедиться, что нули поменялись на единицы"
   ]
  },
  {
   "cell_type": "markdown",
   "metadata": {},
   "source": [
    "5. Посчитайте, сколько уникальных рецептов находится в датасете."
   ]
  },
  {
   "cell_type": "code",
   "execution_count": 23,
   "metadata": {},
   "outputs": [
    {
     "name": "stdout",
     "output_type": "stream",
     "text": [
      "74983\n"
     ]
    }
   ],
   "source": [
    "unique_recipes = np.unique(text, axis=0)\n",
    "unique_rows, _ = unique_recipes.shape\n",
    "print(unique_rows)"
   ]
  },
  {
   "cell_type": "markdown",
   "metadata": {},
   "source": [
    "6. Сколько и каких различных значений кол-ва ингредиентов присутвует в рецептах из датасета?"
   ]
  },
  {
   "cell_type": "code",
   "execution_count": 24,
   "metadata": {},
   "outputs": [
    {
     "name": "stdout",
     "output_type": "stream",
     "text": [
      "32\n",
      "[ 1  2  3  4  5  6  7  8  9 10 11 12 13 14 15 16 17 18 19 20 21 22 23 24\n",
      " 25 26 27 28 29 30 33 34]\n"
     ]
    }
   ],
   "source": [
    "unique_ingredients = np.unique(text[:, 2])\n",
    "print(len(unique_ingredients))\n",
    "print(unique_ingredients)"
   ]
  },
  {
   "cell_type": "markdown",
   "metadata": {},
   "source": [
    "7. Создайте версию массива, содержащую информацию только о рецептах, состоящих не более чем из 5 ингредиентов."
   ]
  },
  {
   "cell_type": "code",
   "execution_count": 25,
   "metadata": {},
   "outputs": [
    {
     "name": "stdout",
     "output_type": "stream",
     "text": [
      "[[446597     15      5]\n",
      " [204134      5      3]\n",
      " [ 25623      6      4]\n",
      " ...\n",
      " [ 52088     60      5]\n",
      " [128811     15      4]\n",
      " [370915      5      4]]\n"
     ]
    }
   ],
   "source": [
    "text1 = text[text[:, 2] <= 5]\n",
    "print(text1)"
   ]
  },
  {
   "cell_type": "markdown",
   "metadata": {},
   "source": [
    "8. Для каждого рецепта посчитайте, сколько в среднем ингредиентов приходится на одну минуту рецепта. Найдите максимальное значение этой величины для всего датасета"
   ]
  },
  {
   "cell_type": "code",
   "execution_count": 26,
   "metadata": {},
   "outputs": [
    {
     "name": "stdout",
     "output_type": "stream",
     "text": [
      "23.0\n"
     ]
    }
   ],
   "source": [
    "ingredients_avg_minutes = text[:, 2] / text[:, 1]\n",
    "print(ingredients_avg_minutes.max())"
   ]
  },
  {
   "cell_type": "markdown",
   "metadata": {},
   "source": [
    "9. Вычислите среднее количество ингредиентов для топ-100 рецептов с наибольшей продолжительностью"
   ]
  },
  {
   "cell_type": "code",
   "execution_count": 27,
   "metadata": {},
   "outputs": [
    {
     "name": "stdout",
     "output_type": "stream",
     "text": [
      "10.06\n"
     ]
    }
   ],
   "source": [
    "sorted_text = text[text[:, 1].argsort()][::-1]    # сортируем рецепты по убыванию продолжительности\n",
    "avg_ingredients = np.average(sorted_text[:, 2][:100])\n",
    "print(avg_ingredients)"
   ]
  },
  {
   "cell_type": "markdown",
   "metadata": {},
   "source": [
    "10. Выберите случайным образом и выведите информацию о 10 различных рецептах"
   ]
  },
  {
   "cell_type": "code",
   "execution_count": 28,
   "metadata": {},
   "outputs": [
    {
     "name": "stdout",
     "output_type": "stream",
     "text": [
      "[[342131     20      9]\n",
      " [151372     30      3]\n",
      " [ 18541     45      8]\n",
      " [280454     45      7]\n",
      " [424931     20      7]\n",
      " [254573     30      6]\n",
      " [ 10433     30     16]\n",
      " [386143     40      8]\n",
      " [ 56473     50      7]\n",
      " [128560      5     10]]\n"
     ]
    }
   ],
   "source": [
    "print(text[np.random.choice(text.shape[0], 10)])"
   ]
  },
  {
   "cell_type": "markdown",
   "metadata": {},
   "source": [
    "11. Выведите процент рецептов, кол-во ингредиентов в которых меньше среднего."
   ]
  },
  {
   "cell_type": "code",
   "execution_count": 29,
   "metadata": {},
   "outputs": [
    {
     "name": "stdout",
     "output_type": "stream",
     "text": [
      "53\n"
     ]
    }
   ],
   "source": [
    "ingrs = text[:, 2]\n",
    "avg_ingrs = np.average(ingrs)\n",
    "less_avg_ingredients = text[ingrs < avg_ingrs]\n",
    "percent = (len(less_avg_ingredients) / len(text)) * 100\n",
    "print(round(percent))"
   ]
  },
  {
   "cell_type": "markdown",
   "metadata": {},
   "source": [
    "12. Назовем \"простым\" такой рецепт, длительность выполнения которого не больше 20 минут и кол-во ингредиентов в котором не больше 5. Создайте версию датасета с дополнительным столбцом, значениями которого являются 1, если рецепт простой, и 0 в противном случае."
   ]
  },
  {
   "cell_type": "code",
   "execution_count": 30,
   "metadata": {},
   "outputs": [
    {
     "name": "stdout",
     "output_type": "stream",
     "text": [
      "[[127244     60     16      0]\n",
      " [ 23891     25      7      0]\n",
      " [ 94746     10      6      0]\n",
      " ...\n",
      " [ 43407     35      7      0]\n",
      " [498432     65     15      0]\n",
      " [370915      5      4      1]]\n"
     ]
    }
   ],
   "source": [
    "simple_recipes = (text[:, 1] <= 20) & (text[:, 2] <= 5)\n",
    "# если условие выполняется (рецепт \"простой\"), в 4 столбце будет единица, в противном случае - 0\n",
    "simple_column = np.where(simple_recipes, 1, 0)\n",
    "simple_text = np.insert(text, 3, simple_column, axis=1)    # добавим столбец к текущему массиву\n",
    "print(simple_text)"
   ]
  },
  {
   "cell_type": "markdown",
   "metadata": {},
   "source": [
    "13. Выведите процент \"простых\" рецептов в датасете"
   ]
  },
  {
   "cell_type": "code",
   "execution_count": 31,
   "metadata": {},
   "outputs": [
    {
     "name": "stdout",
     "output_type": "stream",
     "text": [
      "13\n"
     ]
    }
   ],
   "source": [
    "simple_percent = np.average(simple_text[:, 3]) * 100\n",
    "print(round(simple_percent))"
   ]
  },
  {
   "cell_type": "markdown",
   "metadata": {},
   "source": [
    "14. Разделим рецепты на группы по следующему правилу. Назовем рецепты короткими, если их продолжительность составляет менее 10 минут; стандартными, если их продолжительность составляет более 10, но менее 20 минут; и длинными, если их продолжительность составляет не менее 20 минут. Создайте трехмерный массив, где нулевая ось отвечает за номер группы (короткий, стандартный или длинный рецепт), первая ось - за сам рецепт и вторая ось - за характеристики рецепта. Выберите максимальное количество рецептов из каждой группы таким образом, чтобы было возможно сформировать трехмерный массив. Выведите форму полученного массива."
   ]
  },
  {
   "cell_type": "code",
   "execution_count": 32,
   "metadata": {},
   "outputs": [
    {
     "name": "stdout",
     "output_type": "stream",
     "text": [
      "[[[ 67660      5      6]\n",
      "  [366174      7      9]\n",
      "  [204134      5      3]\n",
      "  ...\n",
      "  [420725      5      3]\n",
      "  [     1      1      1]\n",
      "  [370915      5      4]]\n",
      "\n",
      " [[ 94746     10      6]\n",
      "  [ 33941     18      9]\n",
      "  [446597     15      5]\n",
      "  ...\n",
      "  [  9831     15      7]\n",
      "  [335859     12     14]\n",
      "  [256812     10      3]]\n",
      "\n",
      " [[127244     60     16]\n",
      "  [ 23891     25      7]\n",
      "  [157911     60     14]\n",
      "  ...\n",
      "  [321217     65      7]\n",
      "  [104584     48      8]\n",
      "  [235518     23      8]]]\n",
      "\n",
      "(3, 7588, 3)\n"
     ]
    }
   ],
   "source": [
    "short = text[text[:, 1] < 10 ]",
    "standard = text[(10 <= text[:, 1]) & (text[:, 1] < 20)]",
    "long = text[text[:, 1] >= 20]",
    "\n",
    "\"\"\" Берём из массивов одинаковые количества рецептов: \n",
    "ограничиваем по самой малочисленной группе, чтобы везде было равное кол-во рецептов \"\"\"\n",
    "max_recipes = min([len(short), len(standard), len(long)])\n",
    "short = short[:max_recipes]\n",
    "standard = standard[:max_recipes]\n",
    "long = long[:max_recipes]\n",
    "\n",
    "new_text = np.array([short, standard, long])\n",
    "print(new_text)\n",
    "print()\n",
    "print(new_text.shape)"
   ]
  }
 ],
 "metadata": {
  "kernelspec": {
   "display_name": "Python 3 (ipykernel)",
   "language": "python",
   "name": "python3"
  },
  "language_info": {
   "codemirror_mode": {
    "name": "ipython",
    "version": 3
   },
   "file_extension": ".py",
   "mimetype": "text/x-python",
   "name": "python",
   "nbconvert_exporter": "python",
   "pygments_lexer": "ipython3",
   "version": "3.9.13"
  }
 },
 "nbformat": 4,
 "nbformat_minor": 4
}
